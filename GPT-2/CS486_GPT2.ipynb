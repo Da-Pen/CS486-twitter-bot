{
  "nbformat": 4,
  "nbformat_minor": 0,
  "metadata": {
    "colab": {
      "name": "CS486 GPT2.ipynb",
      "provenance": [],
      "collapsed_sections": [],
      "authorship_tag": "ABX9TyPVL3MtUzWc/fMxQcz0h7R0",
      "include_colab_link": true
    },
    "kernelspec": {
      "name": "python3",
      "display_name": "Python 3"
    }
  },
  "cells": [
    {
      "cell_type": "markdown",
      "metadata": {
        "id": "view-in-github",
        "colab_type": "text"
      },
      "source": [
        "<a href=\"https://colab.research.google.com/github/Da-Pen/CS486-twitter-bot/blob/main/GPT-2/CS486_GPT2.ipynb\" target=\"_parent\"><img src=\"https://colab.research.google.com/assets/colab-badge.svg\" alt=\"Open In Colab\"/></a>"
      ]
    },
    {
      "cell_type": "code",
      "metadata": {
        "id": "Uxaz_TYJEr4R",
        "outputId": "d767eeb2-5e7b-42b8-d813-38d6e2e9b897",
        "colab": {
          "base_uri": "https://localhost:8080/"
        }
      },
      "source": [
        "%tensorflow_version 1.x\n",
        "!pip install -q gpt-2-simple\n",
        "import gpt_2_simple as gpt2\n",
        "from datetime import datetime\n",
        "from google.colab import files"
      ],
      "execution_count": 1,
      "outputs": [
        {
          "output_type": "stream",
          "text": [
            "TensorFlow 1.x selected.\n",
            "  Building wheel for gpt-2-simple (setup.py) ... \u001b[?25l\u001b[?25hdone\n",
            "WARNING:tensorflow:\n",
            "The TensorFlow contrib module will not be included in TensorFlow 2.0.\n",
            "For more information, please see:\n",
            "  * https://github.com/tensorflow/community/blob/master/rfcs/20180907-contrib-sunset.md\n",
            "  * https://github.com/tensorflow/addons\n",
            "  * https://github.com/tensorflow/io (for I/O related ops)\n",
            "If you depend on functionality not listed there, please file an issue.\n",
            "\n"
          ],
          "name": "stdout"
        }
      ]
    },
    {
      "cell_type": "code",
      "metadata": {
        "id": "YZLra58y9_zV"
      },
      "source": [
        "# ml_model_name = os.environ.get(\"model_name\") # Usually 124M for mix between accuracy and speed\n",
        "# ml_training_steps = int(os.environ.get(\"training_steps\")) # Usually 100\n",
        "# ml_generation_length = int(os.environ.get(\"generation_length\")) # Usually 1000\n",
        "# ml_temp = float(os.environ.get(\"generation_temperature\")) # How 'crazy' the output is. Recommend between 0.7-1 for useful results or something like 2 if you wanna have fun.\n",
        "# ml_batch_size = int(os.environ.get(\"generation_batch_size\"))\n",
        "# ml_samples = int(os.environ.get(\"generation_samples_x_batch_size\")) * ml_batch_size\n",
        "\n",
        "# Setup variables from config file\n",
        "ml_model_name = \"124M\"\n",
        "ml_training_steps = 100\n",
        "ml_generation_length = 1000\n",
        "ml_temp = 1.0\n",
        "# ml_batch_size = int(os.environ.get(\"generation_batch_size\"))\n",
        "# ml_samples = int(os.environ.get(\"generation_samples_x_batch_size\")) * ml_batch_size"
      ],
      "execution_count": 2,
      "outputs": []
    },
    {
      "cell_type": "code",
      "metadata": {
        "id": "KGFaBpK5EoTl",
        "outputId": "0c3968bc-7b2d-4d36-b302-912ce3b171fd",
        "colab": {
          "base_uri": "https://localhost:8080/"
        }
      },
      "source": [
        "gpt2.download_gpt2(model_name=ml_model_name)"
      ],
      "execution_count": 3,
      "outputs": [
        {
          "output_type": "stream",
          "text": [
            "Fetching checkpoint: 1.05Mit [00:00, 395Mit/s]                                                      \n",
            "Fetching encoder.json: 1.05Mit [00:00, 102Mit/s]                                                    \n",
            "Fetching hparams.json: 1.05Mit [00:00, 292Mit/s]                                                    \n",
            "Fetching model.ckpt.data-00000-of-00001: 498Mit [00:02, 188Mit/s]                                   \n",
            "Fetching model.ckpt.index: 1.05Mit [00:00, 221Mit/s]                                                \n",
            "Fetching model.ckpt.meta: 1.05Mit [00:00, 104Mit/s]                                                 \n",
            "Fetching vocab.bpe: 1.05Mit [00:00, 118Mit/s]                                                       \n"
          ],
          "name": "stderr"
        }
      ]
    },
    {
      "cell_type": "code",
      "metadata": {
        "id": "f0qg5hiqEoYJ"
      },
      "source": [
        "file_name = 'sportsnews_data' #filename for training data"
      ],
      "execution_count": 5,
      "outputs": []
    },
    {
      "cell_type": "code",
      "metadata": {
        "id": "cj1cc1gMGpn1",
        "outputId": "8f3aedbc-a313-42ed-c020-9b4c57958bce",
        "colab": {
          "base_uri": "https://localhost:8080/",
          "height": 1000
        }
      },
      "source": [
        "sess = gpt2.start_tf_sess()\n",
        "gpt2.finetune(sess,\n",
        "              file_name,\n",
        "              model_name=ml_model_name,\n",
        "              steps=ml_training_steps\n",
        "              )\n",
        "!zip -r /content/checkpoint_sports.zip /content/checkpoint\n",
        "files.download('/content/checkpoint_sports.zip')\n",
        "!zip -r /content/models_sports.zip /content/models\n",
        "files.download('content/models_sports.zipx')"
      ],
      "execution_count": 6,
      "outputs": [
        {
          "output_type": "stream",
          "text": [
            "WARNING:tensorflow:From /usr/local/lib/python3.6/dist-packages/gpt_2_simple/src/sample.py:17: where (from tensorflow.python.ops.array_ops) is deprecated and will be removed in a future version.\n",
            "Instructions for updating:\n",
            "Use tf.where in 2.0, which has the same broadcast rule as np.where\n",
            "Loading checkpoint models/124M/model.ckpt\n",
            "INFO:tensorflow:Restoring parameters from models/124M/model.ckpt\n"
          ],
          "name": "stdout"
        },
        {
          "output_type": "stream",
          "text": [
            "\r  0%|          | 0/1 [00:00<?, ?it/s]"
          ],
          "name": "stderr"
        },
        {
          "output_type": "stream",
          "text": [
            "Loading dataset...\n"
          ],
          "name": "stdout"
        },
        {
          "output_type": "stream",
          "text": [
            "100%|██████████| 1/1 [00:03<00:00,  3.04s/it]\n"
          ],
          "name": "stderr"
        },
        {
          "output_type": "stream",
          "text": [
            "dataset has 501608 tokens\n",
            "Training...\n",
            "[1 | 114.24] loss=3.53 avg=3.53\n",
            "[2 | 219.30] loss=3.55 avg=3.54\n",
            "[3 | 324.34] loss=3.40 avg=3.49\n",
            "[4 | 429.04] loss=3.59 avg=3.52\n",
            "[5 | 534.16] loss=3.54 avg=3.52\n",
            "[6 | 639.36] loss=3.14 avg=3.46\n",
            "[7 | 743.85] loss=3.06 avg=3.40\n",
            "[8 | 848.75] loss=3.35 avg=3.39\n",
            "[9 | 953.36] loss=2.95 avg=3.34\n",
            "[10 | 1058.49] loss=2.86 avg=3.29\n",
            "[11 | 1163.77] loss=3.30 avg=3.29\n",
            "[12 | 1269.19] loss=3.02 avg=3.27\n",
            "[13 | 1373.58] loss=3.03 avg=3.25\n",
            "[14 | 1478.39] loss=2.98 avg=3.23\n",
            "[15 | 1583.18] loss=3.26 avg=3.23\n",
            "[16 | 1687.90] loss=3.05 avg=3.22\n",
            "[17 | 1793.20] loss=3.32 avg=3.22\n",
            "[18 | 1898.71] loss=2.97 avg=3.21\n",
            "[19 | 2003.46] loss=3.18 avg=3.21\n",
            "[20 | 2108.62] loss=3.17 avg=3.21\n",
            "[21 | 2213.38] loss=3.25 avg=3.21\n",
            "[22 | 2318.33] loss=2.96 avg=3.20\n",
            "[23 | 2423.34] loss=3.23 avg=3.20\n",
            "[24 | 2529.25] loss=3.28 avg=3.20\n",
            "[25 | 2634.40] loss=3.13 avg=3.20\n",
            "[26 | 2739.43] loss=3.20 avg=3.20\n",
            "[27 | 2844.40] loss=2.90 avg=3.18\n",
            "[28 | 2949.31] loss=3.41 avg=3.19\n",
            "[29 | 3054.66] loss=2.82 avg=3.18\n",
            "[30 | 3160.25] loss=2.79 avg=3.16\n",
            "[31 | 3265.69] loss=2.83 avg=3.15\n",
            "[32 | 3370.91] loss=3.18 avg=3.15\n",
            "[33 | 3475.82] loss=3.03 avg=3.15\n",
            "[34 | 3581.19] loss=3.28 avg=3.15\n",
            "[35 | 3687.06] loss=3.21 avg=3.15\n",
            "[36 | 3792.52] loss=3.25 avg=3.16\n",
            "[37 | 3898.15] loss=3.05 avg=3.15\n",
            "[38 | 4003.02] loss=3.08 avg=3.15\n",
            "[39 | 4107.74] loss=2.72 avg=3.14\n",
            "[40 | 4213.09] loss=3.06 avg=3.14\n",
            "[41 | 4318.96] loss=2.88 avg=3.13\n",
            "[42 | 4424.03] loss=2.79 avg=3.12\n",
            "[43 | 4529.39] loss=3.08 avg=3.12\n",
            "[44 | 4634.83] loss=3.18 avg=3.12\n",
            "[45 | 4740.20] loss=3.11 avg=3.12\n",
            "[46 | 4845.85] loss=2.73 avg=3.11\n",
            "[47 | 4951.95] loss=2.76 avg=3.10\n",
            "[48 | 5057.11] loss=3.10 avg=3.10\n",
            "[49 | 5162.41] loss=3.10 avg=3.10\n",
            "[50 | 5267.82] loss=3.10 avg=3.10\n",
            "[51 | 5373.07] loss=2.79 avg=3.09\n",
            "[52 | 5478.37] loss=2.84 avg=3.09\n",
            "[53 | 5583.92] loss=3.19 avg=3.09\n",
            "[54 | 5688.56] loss=3.10 avg=3.09\n",
            "[55 | 5793.55] loss=2.79 avg=3.08\n",
            "[56 | 5898.84] loss=2.92 avg=3.08\n",
            "[57 | 6003.92] loss=2.86 avg=3.07\n",
            "[58 | 6109.16] loss=3.12 avg=3.07\n",
            "[59 | 6215.44] loss=3.25 avg=3.08\n",
            "[60 | 6320.26] loss=3.25 avg=3.08\n",
            "[61 | 6425.54] loss=2.90 avg=3.08\n",
            "[62 | 6530.39] loss=2.76 avg=3.07\n",
            "[63 | 6635.51] loss=2.76 avg=3.06\n",
            "[64 | 6741.56] loss=2.49 avg=3.05\n",
            "[65 | 6846.96] loss=3.19 avg=3.05\n",
            "[66 | 6952.35] loss=3.01 avg=3.05\n",
            "[67 | 7057.62] loss=2.66 avg=3.05\n",
            "[68 | 7162.46] loss=2.99 avg=3.04\n",
            "[69 | 7267.77] loss=3.17 avg=3.05\n",
            "[70 | 7373.70] loss=3.17 avg=3.05\n",
            "[71 | 7478.88] loss=2.65 avg=3.04\n",
            "[72 | 7583.89] loss=2.71 avg=3.04\n",
            "[73 | 7689.05] loss=2.74 avg=3.03\n",
            "[74 | 7794.34] loss=2.96 avg=3.03\n",
            "[75 | 7899.34] loss=2.94 avg=3.03\n",
            "[76 | 8004.83] loss=2.74 avg=3.02\n",
            "[77 | 8109.50] loss=2.60 avg=3.01\n",
            "[78 | 8214.35] loss=3.19 avg=3.02\n",
            "[79 | 8319.26] loss=2.80 avg=3.01\n",
            "[80 | 8424.04] loss=3.04 avg=3.01\n",
            "[81 | 8529.71] loss=2.62 avg=3.01\n",
            "[82 | 8635.48] loss=2.89 avg=3.00\n",
            "[83 | 8740.43] loss=2.87 avg=3.00\n",
            "[84 | 8845.40] loss=3.10 avg=3.00\n",
            "[85 | 8950.59] loss=2.62 avg=3.00\n",
            "[86 | 9056.27] loss=2.89 avg=2.99\n",
            "[87 | 9161.77] loss=2.64 avg=2.99\n",
            "[88 | 9267.59] loss=2.77 avg=2.99\n",
            "[89 | 9373.12] loss=2.71 avg=2.98\n",
            "[90 | 9478.74] loss=2.87 avg=2.98\n",
            "[91 | 9584.52] loss=2.74 avg=2.97\n",
            "[92 | 9690.14] loss=2.51 avg=2.97\n",
            "[93 | 9796.39] loss=3.10 avg=2.97\n",
            "[94 | 9901.75] loss=2.73 avg=2.97\n",
            "[95 | 10007.38] loss=2.84 avg=2.96\n",
            "[96 | 10112.63] loss=2.69 avg=2.96\n",
            "[97 | 10217.53] loss=2.93 avg=2.96\n",
            "[98 | 10322.72] loss=2.99 avg=2.96\n",
            "[99 | 10429.03] loss=3.07 avg=2.96\n",
            "[100 | 10533.98] loss=2.69 avg=2.96\n",
            "Saving checkpoint/run1/model-100\n",
            "  adding: content/checkpoint/ (stored 0%)\n",
            "  adding: content/checkpoint/run1/ (stored 0%)\n",
            "  adding: content/checkpoint/run1/model-100.meta (deflated 91%)\n",
            "  adding: content/checkpoint/run1/model-100.data-00000-of-00001 (deflated 7%)\n",
            "  adding: content/checkpoint/run1/vocab.bpe (deflated 53%)\n",
            "  adding: content/checkpoint/run1/counter (stored 0%)\n",
            "  adding: content/checkpoint/run1/model-100.index (deflated 62%)\n",
            "  adding: content/checkpoint/run1/encoder.json (deflated 67%)\n",
            "  adding: content/checkpoint/run1/events.out.tfevents.1605384232.cd9b753952b6 (deflated 57%)\n",
            "  adding: content/checkpoint/run1/hparams.json (deflated 28%)\n",
            "  adding: content/checkpoint/run1/checkpoint (deflated 40%)\n"
          ],
          "name": "stdout"
        },
        {
          "output_type": "display_data",
          "data": {
            "application/javascript": [
              "\n",
              "    async function download(id, filename, size) {\n",
              "      if (!google.colab.kernel.accessAllowed) {\n",
              "        return;\n",
              "      }\n",
              "      const div = document.createElement('div');\n",
              "      const label = document.createElement('label');\n",
              "      label.textContent = `Downloading \"${filename}\": `;\n",
              "      div.appendChild(label);\n",
              "      const progress = document.createElement('progress');\n",
              "      progress.max = size;\n",
              "      div.appendChild(progress);\n",
              "      document.body.appendChild(div);\n",
              "\n",
              "      const buffers = [];\n",
              "      let downloaded = 0;\n",
              "\n",
              "      const channel = await google.colab.kernel.comms.open(id);\n",
              "      // Send a message to notify the kernel that we're ready.\n",
              "      channel.send({})\n",
              "\n",
              "      for await (const message of channel.messages) {\n",
              "        // Send a message to notify the kernel that we're ready.\n",
              "        channel.send({})\n",
              "        if (message.buffers) {\n",
              "          for (const buffer of message.buffers) {\n",
              "            buffers.push(buffer);\n",
              "            downloaded += buffer.byteLength;\n",
              "            progress.value = downloaded;\n",
              "          }\n",
              "        }\n",
              "      }\n",
              "      const blob = new Blob(buffers, {type: 'application/binary'});\n",
              "      const a = document.createElement('a');\n",
              "      a.href = window.URL.createObjectURL(blob);\n",
              "      a.download = filename;\n",
              "      div.appendChild(a);\n",
              "      a.click();\n",
              "      div.remove();\n",
              "    }\n",
              "  "
            ],
            "text/plain": [
              "<IPython.core.display.Javascript object>"
            ]
          },
          "metadata": {
            "tags": []
          }
        },
        {
          "output_type": "display_data",
          "data": {
            "application/javascript": [
              "download(\"download_0a044b7c-db2b-4722-b972-9ebb81f5527e\", \"checkpoint_sports.zip\", 463251571)"
            ],
            "text/plain": [
              "<IPython.core.display.Javascript object>"
            ]
          },
          "metadata": {
            "tags": []
          }
        }
      ]
    },
    {
      "cell_type": "code",
      "metadata": {
        "id": "TuiLNS10ksHv",
        "outputId": "d32d0a69-a94d-42eb-e03a-c289a3712f2f",
        "colab": {
          "base_uri": "https://localhost:8080/"
        }
      },
      "source": [
        "text = gpt2.generate(sess,\n",
        "                     checkpoint_dir=\"checkpoint\",\n",
        "                     length=ml_generation_length,\n",
        "                     prefix=\"Sources tell\",\n",
        "                     temperature=1,\n",
        "                     destination_path=\"sportsdata_output\",\n",
        "                     return_as_list=True)\n",
        "print(text)"
      ],
      "execution_count": 14,
      "outputs": [
        {
          "output_type": "stream",
          "text": [
            "['Sources tell ESPN.\\nOne final report: Last year?\\nOwned by Miami GM Tim Floyd II. Story on why Floyd wanted to let teams scout the free agent player.\\nESPN story on the Suns allowing agent has lost team while watching Vujacic practice, effort continues.\\nPhoenix has called on agents Vujacic Eric and Michael Kowan on reconsidering the three-year, $3.2B deal they negotiated.\\nIt\\'s not clear exactly what Phoenix hopes to reward the team for the false endorsement of “Pop De3” by Suns’ spokesperson Kelly Jensen. It’s also unclear to me whether the Suns were trying to reach level of political participation. The Suns have zero interest in engagement.\\nThere\\'s speculation among writing team. Suns changed culture since Spencer arrived and it’s clear the Suns staffers were the ones who sought to help unseat defensive coordinator, Ty Lue.\\nWas there a personal reason for the dismissal of Spencer? His attorney said he couldn’t comment on contract “demotion”\\nBut @TheRealTMZ says the Nets and Nets\\' participation in conference call \"ruined the connection\" for players on Chauncey Billups and Ja.\\nSpruies say meeting of group to discuss next steps for season and trading this week was informal: “But it wasn’t massive-ness of conversation of handball and protocol.” On Aubry,\" Nets executive Marc Randle say, “The players that spoke right after are gone….this game is over. All the players have ended. The players’ rock out the door.”\\nJeremy Lin is being cited for stepping on the floor only after one of the players, Kenny Atkinson, suggested in @NYTSports story, he was responding to a kid carrying a gun. Lin has not been on the day of the incident. Update: A scuffle outside Shattuck, New Brunswick and the owner says anyone left “in mind” trying to change the terms of the Nets “player” engagement agreement was not allowed \"After learning that Mr. Lin was in active dialogue with our investigators, this discussion has spanned several hours.\"\\nSources: Nets officials are holding a news conference about the Nets violating conference call. Those who told @NYTSports they were called in to meet with players will be later interviewed’\\nSources: Inside a meeting of NBA bodies that included Clippers CEO Thomas and Knicks owner\\nSources: Teague has coached with Rockets and Cleveland in brief stint with Celtics. He is the best-rounded rookie prospect on pickup night.\\nNBA suspended 1981-82 season and the NBA has signed All-Star Teague to a three-year contract.\\nSources: No shorts covering connecting pins -- and 14,000 feet in Knicks and Nets Nets Nets fans -- showed that entire lot about delusion from media. Teams could made a case that player invented the pins\\nBucks want a strong starting right wing this summer. LeBron\\'s explained: \"Ty just plays for us and proves he\\'s the best in the world. He was the 110th player in the league. I prefer LeBron. We did a very good job pitching Ty Choice. LeBron was like out there in the Dark Stars. He knows where I stand\"\\nThe team has a fourth frontcourt player assigned to 22-man roster. The Nets say the Pistons and Thunder are expected to sign Kyle Kuzma, Bradley Beal and Dwight Powell.\\nNBCI/GMM report: Players MacKgoel and Kristaps Porzingis wear masks late during games while engaged in playful deals on hair and other assets, and “MacKgoel” appears vulnerable to company. Porzingis’ statement will become publicly known to Knicks: “I’m not into it as a game player. I’ll play if I want to.” Kuzma confirms anything negative about masks emerged, but also emphasizes the risk in mask exposure.\\nLooney\\'s colleagues say championships go to win coaches, not players like Mike Kiloper (LeBron Nile). “Mike doesn’t care,\\'\\' the own says of Kiloper. The head coach is the assistant coach on Giannis Antetokounmpo’s Ja Morant and Zach Lowe (@ZachLoweUndisputed)’s Troy Daniels on their trips to office.\\nThe Red Bulls claimed David Volchek inside Minneapolis this week after a rare visit with Pop. As Bulls employees clash over leadership on national television, coaching search grows.\\nSources: Inside why the 32 teams voting for the Lakers and Knicks also shared their consensus plan: Laker do teams deliver on flexibility with fartheraway rights. More detail in @O\\'ReillyCeltics and @NYTSports story.\\nThe NBA MVP -- who won 194 final points -- makes his']\n"
          ],
          "name": "stdout"
        }
      ]
    }
  ]
}