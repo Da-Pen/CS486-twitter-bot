{
  "nbformat": 4,
  "nbformat_minor": 0,
  "metadata": {
    "colab": {
      "name": "CS486 GPT2.ipynb",
      "provenance": [],
      "collapsed_sections": [],
      "authorship_tag": "ABX9TyNGFeAYoOYhwpRZScGoGKM/",
      "include_colab_link": true
    },
    "kernelspec": {
      "name": "python3",
      "display_name": "Python 3"
    }
  },
  "cells": [
    {
      "cell_type": "markdown",
      "metadata": {
        "id": "view-in-github",
        "colab_type": "text"
      },
      "source": [
        "<a href=\"https://colab.research.google.com/github/Da-Pen/CS486-twitter-bot/blob/main/GPT-2/CS486_GPT2.ipynb\" target=\"_parent\"><img src=\"https://colab.research.google.com/assets/colab-badge.svg\" alt=\"Open In Colab\"/></a>"
      ]
    },
    {
      "cell_type": "code",
      "metadata": {
        "id": "Uxaz_TYJEr4R",
        "outputId": "f7c90649-8c38-4d3f-a969-83cb5689599d",
        "colab": {
          "base_uri": "https://localhost:8080/"
        }
      },
      "source": [
        "%tensorflow_version 1.x\n",
        "!pip install -q gpt-2-simple\n",
        "import gpt_2_simple as gpt2\n",
        "from datetime import datetime\n",
        "from google.colab import files"
      ],
      "execution_count": 1,
      "outputs": [
        {
          "output_type": "stream",
          "text": [
            "TensorFlow 1.x selected.\n",
            "WARNING:tensorflow:\n",
            "The TensorFlow contrib module will not be included in TensorFlow 2.0.\n",
            "For more information, please see:\n",
            "  * https://github.com/tensorflow/community/blob/master/rfcs/20180907-contrib-sunset.md\n",
            "  * https://github.com/tensorflow/addons\n",
            "  * https://github.com/tensorflow/io (for I/O related ops)\n",
            "If you depend on functionality not listed there, please file an issue.\n",
            "\n"
          ],
          "name": "stdout"
        }
      ]
    },
    {
      "cell_type": "code",
      "metadata": {
        "id": "YZLra58y9_zV"
      },
      "source": [
        "# ml_model_name = os.environ.get(\"model_name\") # Usually 124M for mix between accuracy and speed\n",
        "# ml_training_steps = int(os.environ.get(\"training_steps\")) # Usually 100\n",
        "# ml_generation_length = int(os.environ.get(\"generation_length\")) # Usually 1000\n",
        "# ml_temp = float(os.environ.get(\"generation_temperature\")) # How 'crazy' the output is. Recommend between 0.7-1 for useful results or something like 2 if you wanna have fun.\n",
        "# ml_batch_size = int(os.environ.get(\"generation_batch_size\"))\n",
        "# ml_samples = int(os.environ.get(\"generation_samples_x_batch_size\")) * ml_batch_size\n",
        "\n",
        "# Setup variables from config file\n",
        "ml_model_name = \"124M\"\n",
        "ml_training_steps = 100\n",
        "ml_generation_length = 1000\n",
        "ml_temp = 1.0\n",
        "# ml_batch_size = int(os.environ.get(\"generation_batch_size\"))\n",
        "# ml_samples = int(os.environ.get(\"generation_samples_x_batch_size\")) * ml_batch_size"
      ],
      "execution_count": 2,
      "outputs": []
    },
    {
      "cell_type": "code",
      "metadata": {
        "id": "KGFaBpK5EoTl"
      },
      "source": [
        "gpt2.download_gpt2(model_name=ml_model_name)"
      ],
      "execution_count": null,
      "outputs": []
    },
    {
      "cell_type": "code",
      "metadata": {
        "id": "f0qg5hiqEoYJ"
      },
      "source": [
        "file_name = 'donald_trump_data' #filename for training data\n",
        "sess = gpt2.start_tf_sess()"
      ],
      "execution_count": 4,
      "outputs": []
    },
    {
      "cell_type": "markdown",
      "metadata": {
        "id": "TXeIivt5yDEw"
      },
      "source": [
        "**Training a new model**"
      ]
    },
    {
      "cell_type": "code",
      "metadata": {
        "id": "cj1cc1gMGpn1"
      },
      "source": [
        "gpt2.finetune(sess,\n",
        "              file_name,\n",
        "              model_name=ml_model_name,\n",
        "              steps=ml_training_steps\n",
        "              )\n",
        "text = gpt2.generate(sess,\n",
        "                     checkpoint_dir=\"checkpoint\",\n",
        "                     length=ml_generation_length,\n",
        "                     prefix=\"\",\n",
        "                     temperature=1,\n",
        "                     destination_path=\"output\",\n",
        "                     return_as_list=True)\n",
        "print(text)"
      ],
      "execution_count": null,
      "outputs": []
    },
    {
      "cell_type": "markdown",
      "metadata": {
        "id": "iGmg7HC4yHVI"
      },
      "source": [
        "**Using an old model from a checkpoint**"
      ]
    },
    {
      "cell_type": "code",
      "metadata": {
        "id": "DjCiWK_SZKAG",
        "outputId": "1453bc63-7e9f-4be3-ad96-fea1197013ba",
        "colab": {
          "base_uri": "https://localhost:8080/"
        }
      },
      "source": [
        "gpt2.load_gpt2(sess, run_name='run1', checkpoint_dir='checkpoint_news')\n",
        "text = gpt2.generate(sess,\n",
        "                     checkpoint_dir=\"checkpoint\",\n",
        "                     length=ml_generation_length,\n",
        "                     prefix=\"\",\n",
        "                     temperature=1,\n",
        "                     destination_path=\"output\",\n",
        "                     return_as_list=True)\n",
        "print(text)"
      ],
      "execution_count": 5,
      "outputs": [
        {
          "output_type": "stream",
          "text": [
            "Loading checkpoint checkpoint_news/run1/model-100\n",
            "INFO:tensorflow:Restoring parameters from checkpoint_news/run1/model-100\n",
            "['China& and Sergey Ford, owners of Speargeter Tools in Moscow & Viktor Ford, owners of Criterion in Moscow, in the Oct. 7 live tweet: #ChecksCNN #ChecksAmerica https://t.co/gvQ3zWeDzR https://t.co/d7bYVs1gem\\nArmed police search Wanlieng General Hospital after alleged informant arrested https://t.co/1roUD5r3vZ https://t.co/BVvHvheNNh\\nU.S. urges world leaders to help Muslim countries tackle extremism http://t.co/X73VDysNTk #AsiaSuperb #AsianIt’sJapan https://t.co/kiZ3YX0eMd\\n(CNN) The second floor of the U.S. Embassy was evacuated in nearby Tikrit amid the sword fight over the withdrawal of U.S. troops from the region. The national security adviser called the situation at the embassy \"very grim.\" https://t.co/Cl4UIMqQWf\\nElection Day, and how rare it is for Democrats to gain Presidential votes, is littered with party officials shaming anybody who leaves party-line votes.NEWLINEBut the breach is not limited to this year\\'s presidential election.NEWLINEThe August election was the party-destruct rush of a century ago.NEWLINEThe coronavirus exploded at the beginning of 2016, and will likely continue to do so.…\\nMembers of Tanzania’s Copacabana searched for one person with medical illness going for surgery at the University College in Black Forest, Tanzania. The medical staff found that he was dead of hypothermia. NEWLINENEWLINEA nurse turner shot by Tanzania police told the police he was suffering from Cryovoleema, an upper limb disorder, and nicknamed \"Salvo\". We speak to Weil, one of 10 doctors who treat US and Tanzania…\\nFaced with a possible lead demand—and facing uncertain guidance—notpoliticians are raising coronavirus vaccines in desperation.NEWLINETheir statements are drawn from conversations with experts and colleagues specializing WordPress and Winamp toolswalking the hallsof parliament in their attempt to save lives without pandemic. https://t.co/dLfwsUKj6b\\nWhat can we do to help ensure that millions of potentially ill-worshippers had access Pakistan’s airport security measures?NEWLINEWe are ramping up the security of our country through as many as 15 different channels, from the opening bell to our processing center. https://t.co/dQig8aLeEZ https://t.co/FIZkrMMN\\nDebunk: Billion Valley projects meet Arctic\\'s six million daily COVID-19 cases https://t.co/xfcfKf1dmS\\nControversial foreign investments by Chinese comunists are showing signs of popping up in foreign stocks, publishing data that had been expected... http://t.co/w3ODTAsQX5\\nLarge insurance exchange raises safety concerns over unique hubraccio.Newly recorded spikes in cancellations under Reuters\\' spotlight can increase risk by 20% to 30%, according to Andrew Carter, now the Board of Canada’s chief economic officer. https://t.co/atBrgoGdjWm\\nHouse letter claims health care activist loses legal immunity after seeing results https://t.co/WSPnIRw4ER #KidsGame #BestPolsHalloween https://t.co/I9WCftc2b6\\nHow long it will take to open abortion clinics?NEWLINEThe U.S. and China’s two largest oil producers reported release of 120,000 new cases within two weeks. https://t.co/xEm0FhBQb6\\nNew Mexico Legislature passes power package to end decades of violence https://t.co/9AHKSiLPfp https://t.co/6bogw3iaeQ\\nWhat does it look like for kids when they\\'re suspended from school? NEWLINENEWLINEExplore some of the anxiety-inducing cartoons you can see right now in Cartoon Heritage month-long series: Nigeria’s Chronicles, Catch Me When I See Her in 2020, Dreams of Backwhen and What Gillian Lear at NYU Putnam’s Choices talks about. https://t.co…\\nRT @nytopinion: Randi Weingarten is the most socially-justice-minded New York Times columnist on her new book,The Dirty Th…\\nGlengarry Chayefsky replaces Peter Thiel as Biden\\'s finance chairman in New York https://t.co/ecQWgQ8ebE\\nWestJet passengers to be let out']\n"
          ],
          "name": "stdout"
        }
      ]
    },
    {
      "cell_type": "code",
      "metadata": {
        "id": "LkJabejAH29c"
      },
      "source": [
        "!rm -rf checkpoint_trump/"
      ],
      "execution_count": 11,
      "outputs": []
    },
    {
      "cell_type": "code",
      "metadata": {
        "id": "gE_glPaTRk9w",
        "outputId": "256d36ae-2359-48ae-9470-1ebce65f5fa9",
        "colab": {
          "base_uri": "https://localhost:8080/"
        }
      },
      "source": [
        "!unzip News_Archive.zip"
      ],
      "execution_count": 12,
      "outputs": [
        {
          "output_type": "stream",
          "text": [
            "Archive:  News_Archive.zip\n",
            "   creating: checkpoint_news/\n",
            "  inflating: __MACOSX/._checkpoint_news  \n",
            "  inflating: checkpoint_news/.DS_Store  \n",
            "  inflating: __MACOSX/checkpoint_news/._.DS_Store  \n",
            "   creating: checkpoint_news/run1/\n",
            "  inflating: __MACOSX/checkpoint_news/._run1  \n",
            "  inflating: checkpoint_news/run1/events.out.tfevents.1605302496.26e38b7525e0  \n",
            "  inflating: __MACOSX/checkpoint_news/run1/._events.out.tfevents.1605302496.26e38b7525e0  \n",
            "  inflating: checkpoint_news/run1/model-100.meta  \n",
            "  inflating: __MACOSX/checkpoint_news/run1/._model-100.meta  \n",
            "  inflating: checkpoint_news/run1/encoder.json  \n",
            "  inflating: __MACOSX/checkpoint_news/run1/._encoder.json  \n",
            "  inflating: checkpoint_news/run1/checkpoint  \n",
            "  inflating: __MACOSX/checkpoint_news/run1/._checkpoint  \n",
            "  inflating: checkpoint_news/run1/model-100.index  \n",
            "  inflating: __MACOSX/checkpoint_news/run1/._model-100.index  \n",
            "  inflating: checkpoint_news/run1/hparams.json  \n",
            "  inflating: __MACOSX/checkpoint_news/run1/._hparams.json  \n",
            "  inflating: checkpoint_news/run1/model-100.data-00000-of-00001  \n",
            "  inflating: __MACOSX/checkpoint_news/run1/._model-100.data-00000-of-00001  \n",
            "  inflating: checkpoint_news/run1/counter  \n",
            "  inflating: __MACOSX/checkpoint_news/run1/._counter  \n",
            "  inflating: checkpoint_news/run1/vocab.bpe  \n",
            "  inflating: __MACOSX/checkpoint_news/run1/._vocab.bpe  \n",
            "   creating: models_news/\n",
            "  inflating: __MACOSX/._models_news  \n",
            "   creating: models_news/124M/\n",
            "  inflating: __MACOSX/models_news/._124M  \n",
            "  inflating: models_news/124M/model.ckpt.meta  \n",
            "  inflating: __MACOSX/models_news/124M/._model.ckpt.meta  \n",
            "  inflating: models_news/124M/encoder.json  \n",
            "  inflating: __MACOSX/models_news/124M/._encoder.json  \n",
            "  inflating: models_news/124M/checkpoint  \n",
            "  inflating: __MACOSX/models_news/124M/._checkpoint  \n",
            "  inflating: models_news/124M/hparams.json  \n",
            "  inflating: __MACOSX/models_news/124M/._hparams.json  \n",
            "  inflating: models_news/124M/model.ckpt.index  \n",
            "  inflating: __MACOSX/models_news/124M/._model.ckpt.index  \n",
            "  inflating: models_news/124M/model.ckpt.data-00000-of-00001  \n",
            "  inflating: __MACOSX/models_news/124M/._model.ckpt.data-00000-of-00001  \n",
            "  inflating: models_news/124M/vocab.bpe  \n",
            "  inflating: __MACOSX/models_news/124M/._vocab.bpe  \n"
          ],
          "name": "stdout"
        }
      ]
    }
  ]
}