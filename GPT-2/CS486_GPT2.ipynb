{
  "nbformat": 4,
  "nbformat_minor": 0,
  "metadata": {
    "colab": {
      "name": "CS486 GPT2.ipynb",
      "provenance": [],
      "authorship_tag": "ABX9TyNWdo6GSEHFjiewdy4kYLfm",
      "include_colab_link": true
    },
    "kernelspec": {
      "name": "python3",
      "display_name": "Python 3"
    }
  },
  "cells": [
    {
      "cell_type": "markdown",
      "metadata": {
        "id": "view-in-github",
        "colab_type": "text"
      },
      "source": [
        "<a href=\"https://colab.research.google.com/github/Da-Pen/CS486-twitter-bot/blob/main/GPT-2/CS486_GPT2.ipynb\" target=\"_parent\"><img src=\"https://colab.research.google.com/assets/colab-badge.svg\" alt=\"Open In Colab\"/></a>"
      ]
    },
    {
      "cell_type": "code",
      "metadata": {
        "id": "LT_ldRiqmZIF"
      },
      "source": [
        "import gpt_2_simple as gpt2\n",
        "import os\n",
        "\n",
        "#https://towardsdatascience.com/how-to-make-a-gpt2-twitter-bot-8669df60e60a\n",
        "\n",
        "model_name = \"117M\"\n",
        "\n",
        "if not os.path.isdir(os.path.join(\"models\", model_name)):\n",
        "    print(f\"Downloading {model_name} model...\")\n",
        "    gpt2.download_gpt2(model_name=model_name)\n",
        "\n",
        "sess = gpt2.start_tf_sess()\n",
        "\n",
        "num_steps = 100 #TODO: set this to Ceiling(Word Count/Line Count) of the training data file\n",
        "\n",
        "text_path = \"TRAINING DATA\"\n",
        "\n",
        "gpt2.finetune(sess, \n",
        "              text_path,\n",
        "              model_name=model_name,\n",
        "              steps=num_steps\n",
        "             )\n",
        "\n",
        "# session: The session is just the current Tensorflow session\n",
        "# dataset: This is the path to a text file to load in and use for training, more on this later.\n",
        "# model_name: The name of the GPT2 model to use can be 117M, 124M, or 355M. 124M works well on my 1080Ti GPU.\n",
        "# steps\" The number of steps for the model to take. This number should be high enough to step through your whole data set at least once but not so high that you over fit. When fine tuning GPT2 on a relatively small data set I like to do one to two epochs. Then I test to make sure that what it generates wasn’t directly from the training set.\n",
        "\n",
        "\n",
        "length = 10 \n",
        "destination_path = \"\"\n",
        "temperature = 0.5\n",
        "prefix = \"\"\n",
        "\n",
        "text = gpt2.generate(\n",
        "    sess,\n",
        "    length=length,\n",
        "    temperature=temperature,\n",
        "    destination_path=destination_path,\n",
        "    prefix=prefix,\n",
        "    return_as_list=True\n",
        ")\n",
        "# sess: is the tensorflow session we want to use\n",
        "# checkpoint_dir: is the path to the saved checkpoints from our finetuning\n",
        "# temperature: is and value greater than 0 I like to play around between .8 and 2. The lower the temperature the more consistent and predictable your outputs the higher the temperature the more wild, fun, and possibly nonsensical they will be.\n",
        "# destination_path: is a path to where you want the text to be saved. If you just want to return it inline make this None\n",
        "# prefix: is a fun one. It can be a string of text that is used to seed the model. So if you started with “thou shall not” then the model will write the next words as if it had started with “thou shall not.”\n",
        "# return_as_list: will cause the function to return the text instead of just printing it out."
      ],
      "execution_count": null,
      "outputs": []
    }
  ]
}